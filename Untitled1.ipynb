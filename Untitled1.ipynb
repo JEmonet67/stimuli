{
 "cells": [
  {
   "cell_type": "code",
   "execution_count": null,
   "id": "c0dbf0f3-67ca-4803-ba3b-c175e0c4f5c5",
   "metadata": {},
   "outputs": [],
   "source": []
  },
  {
   "cell_type": "code",
   "execution_count": 1,
   "id": "6154471e-3ce6-47f0-aa4a-455f90f7791b",
   "metadata": {},
   "outputs": [],
   "source": [
    "import cv2\n",
    "import os\n",
    "import matplotlib.pyplot as plt\n",
    "import numpy as np\n",
    "import importlib\n",
    "import stim_help_functions as hf\n",
    "import pandas as pd\n",
    "import re"
   ]
  },
  {
   "cell_type": "code",
   "execution_count": 5,
   "id": "f9548ac0-fd3a-4739-8f93-c7cef0316d8a",
   "metadata": {
    "tags": []
   },
   "outputs": [
    {
     "name": "stdout",
     "output_type": "stream",
     "text": [
      "Moviepy - Building video /user/jemonet/home/Documents/These/stimuli/white_bar_L675_l675_60x270_center307_D99_speed167_traj-27to641_begin4f.mp4.\n",
      "Moviepy - Writing video /user/jemonet/home/Documents/These/stimuli/white_bar_L675_l675_60x270_center307_D99_speed167_traj-27to641_begin4f.mp4\n",
      "\n"
     ]
    },
    {
     "name": "stderr",
     "output_type": "stream",
     "text": [
      "                                                                                "
     ]
    },
    {
     "name": "stdout",
     "output_type": "stream",
     "text": [
      "Moviepy - Done !\n",
      "Moviepy - video ready /user/jemonet/home/Documents/These/stimuli/white_bar_L675_l675_60x270_center307_D99_speed167_traj-27to641_begin4f.mp4\n"
     ]
    },
    {
     "name": "stderr",
     "output_type": "stream",
     "text": [
      "\r"
     ]
    }
   ],
   "source": [
    "import cv2\n",
    "\n",
    "folder_images = f\"{os.getcwd()}/saved_images3/\"\n",
    "if not os.path.isdir(folder_images):\n",
    "    os.mkdir(folder_images)\n",
    "else:\n",
    "    for file in os.listdir(folder_images):\n",
    "        os.remove(folder_images+file)\n",
    "    \n",
    "# Creation stimulus barre en mouvement centrée sur une position spécifique\n",
    "duration = 99\n",
    "transient = 4\n",
    "speed = 167\n",
    "l_img = 675\n",
    "L_img = 675\n",
    "Lx_barre = 60\n",
    "Ly_barre = 270\n",
    "\n",
    "center = int((L_img-Lx_barre)/2) # Middle of stimulus\n",
    "#center = 37\n",
    "y0 = int(np.ceil((l_img - Ly_barre) / 2))\n",
    "begin_end_outside_bar = True\n",
    "if begin_end_outside_bar:\n",
    "    x0 = -Lx_barre\n",
    "    x_end = L_img\n",
    "else:\n",
    "    x0 = 0\n",
    "    x_end = L_img+Lx_barre\n",
    "    \n",
    "amont_center = [i for i in range(center, x_end, speed)]\n",
    "aval_center = [i for i in range(center, x0, -speed)]\n",
    "aval_center = aval_center[-1:0:-1]\n",
    "\n",
    "list_position_bar = aval_center + amont_center\n",
    "\n",
    "name_video = f\"white_bar_L{L_img}_l{l_img}_{Lx_barre}x{Ly_barre}_center{center}_D{duration}_speed{speed}_traj{list_position_bar[0]}to{list_position_bar[-1]}_begin{transient}f.mp4\"\n",
    "\n",
    "for k in range(0,duration):\n",
    "    img = np.zeros(shape=(l_img,L_img,4), dtype=np.uint8)\n",
    "\n",
    "    if k > transient - 1 and k < transient + len(list_position_bar):\n",
    "        pos = list_position_bar[k-transient]\n",
    "        if pos < 0:\n",
    "            for i in range(y0,y0+Ly_barre):\n",
    "                for j in range(0,pos+Lx_barre-1):\n",
    "                    img[i,j] = (255,255,255,255)\n",
    "            \n",
    "        elif pos + Lx_barre >= L_img and pos < L_img and pos < x_end:\n",
    "            for i in range(y0,y0+Ly_barre):\n",
    "                for j in range(pos,L_img):\n",
    "                    img[i,j] = (255,255,255,255)\n",
    "                    \n",
    "        elif pos >= 0 and pos <x_end and pos <L_img-Lx_barre:\n",
    "            for i in range(y0,y0+Ly_barre):\n",
    "                for j in range(pos,pos+Lx_barre-1):\n",
    "                    img[i,j] = (255,255,255,255)\n",
    "                    \n",
    "        #x0 += speed\n",
    "    cv2.imwrite(f\"{folder_images}frame{k}.jpg\",img)\n",
    "\n",
    "hf.images_to_video_moviepy(name_video,folder_images)"
   ]
  },
  {
   "cell_type": "code",
   "execution_count": null,
   "id": "61bcb8bc-d9e9-4c7a-a88a-8ba66124f925",
   "metadata": {},
   "outputs": [],
   "source": []
  }
 ],
 "metadata": {
  "kernelspec": {
   "display_name": "Python 3 (ipykernel)",
   "language": "python",
   "name": "python3"
  },
  "language_info": {
   "codemirror_mode": {
    "name": "ipython",
    "version": 3
   },
   "file_extension": ".py",
   "mimetype": "text/x-python",
   "name": "python",
   "nbconvert_exporter": "python",
   "pygments_lexer": "ipython3",
   "version": "3.10.10"
  }
 },
 "nbformat": 4,
 "nbformat_minor": 5
}
