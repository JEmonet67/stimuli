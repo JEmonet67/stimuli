{
 "cells": [
  {
   "cell_type": "markdown",
   "metadata": {},
   "source": [
    "# Création de stimuli"
   ]
  },
  {
   "cell_type": "code",
   "execution_count": 1,
   "metadata": {},
   "outputs": [],
   "source": [
    "import cv2\n",
    "import os\n",
    "import matplotlib.pyplot as plt\n",
    "import numpy as np\n",
    "import importlib\n",
    "import stim_help_functions as hf"
   ]
  },
  {
   "cell_type": "code",
   "execution_count": 3,
   "metadata": {},
   "outputs": [],
   "source": [
    "#création stimuli de type flash\n",
    "name_video = \"/user/jemonet/home/Documents/Thèse/Stimuli/black_background.mp4\"\n",
    "list_frame = hf.video_to_images(name_video,False)\n",
    "n=0\n",
    "for l in range(1,11):\n",
    "    for frame in list_frame:\n",
    "        if n>=60 and n<60+l:\n",
    "            for i in range(frame.shape[0]):\n",
    "                for j in range(frame.shape[1]):\n",
    "                    frame[i][j] = 255\n",
    "        n+=1\n",
    "\n",
    "    hf.images_to_video(\"white_flash_\"+str(l)+\"frame.mp4\",list_frame)"
   ]
  },
  {
   "cell_type": "code",
   "execution_count": 56,
   "metadata": {},
   "outputs": [],
   "source": [
    "#création stimuli background uniforme\n",
    "name_video = \"/user/jemonet/home/Documents/Thèse/Stimuli/white_background.mp4\"\n",
    "list_frame = hf.video_to_images(name_video,False)\n",
    "\n",
    "for frame in list_frame:\n",
    "        for i in range(frame.shape[0]):\n",
    "            for j in range(frame.shape[1]):\n",
    "                frame[i][j] = 255\n",
    "            \n",
    "# h, w = list_frame[0].shape\n",
    "hf.images_to_video(\"white_background.mp4\",list_frame)"
   ]
  },
  {
   "cell_type": "code",
   "execution_count": null,
   "metadata": {},
   "outputs": [],
   "source": [
    "#Create inverted stimulus\n",
    "importlib.reload(hf)\n",
    "\n",
    "inv_list_frame = hf.invert_black_white(list_frame)\n",
    "plt.imshow(inv_list_frame[0], cmap=\"gray\", vmin=0, vmax=255)\n",
    "hf.images_to_video(\"white_bar.mp4\",\"/user/jemonet/home/Documents/Thèse/Stimuli/WhiteBar_Whitefont\")"
   ]
  },
  {
   "cell_type": "code",
   "execution_count": 62,
   "metadata": {},
   "outputs": [],
   "source": [
    "#Create white video\n",
    "importlib.reload(hf)\n",
    "os.chdir('/home/jemonet/Documents/Thèse/Code/Stimuli/flash')\n",
    "\n",
    "#hf.create_flash_stimulus(60,60,180,120, value_background=255, save=True)\n",
    "hf.images_to_video(\"black_flash.mp4\",'/home/jemonet/Documents/Thèse/Code/Stimuli/flash')"
   ]
  },
  {
   "cell_type": "code",
   "execution_count": 48,
   "metadata": {},
   "outputs": [],
   "source": [
    "#Create inverted white flash\n",
    "frames = hf.video_to_images(\"/user/jemonet/home/Documents/Thèse/Stimuli/black_flash/black_flash_1frame.mp4\")\n",
    "inv_frames = hf.invert_black_white(frames)\n",
    "# hf.images_to_video(\"white_flash.mp4\",inv_frames)"
   ]
  },
  {
   "cell_type": "code",
   "execution_count": 46,
   "metadata": {},
   "outputs": [
    {
     "data": {
      "text/plain": [
       "[]"
      ]
     },
     "execution_count": 46,
     "metadata": {},
     "output_type": "execute_result"
    }
   ],
   "source": [
    "#Create start white bar flash from black_bar_flash\n",
    "frames = hf.video_to_images(\"/user/jemonet/home/Documents/Thèse/Stimuli/black_bar_flash.mp4\")\n",
    "inv_frames = hf.invert_black_white(frames)\n",
    "cropped_frames = inv_frames[45:]\n",
    "hf.images_to_video(\"white_bar_flash_startf5.mp4\",cropped_frames)\n",
    "hf.video_to_images(\"/user/jemonet/home/Documents/Thèse/Stimuli/white bar flash/white_bar_flash_startf5.mp4\",True)"
   ]
  },
  {
   "cell_type": "code",
   "execution_count": 17,
   "metadata": {},
   "outputs": [],
   "source": [
    "list_frames = hf.video_to_images(\"/user/jemonet/home/Documents/Thèse/Stimuli/white_bar_fast1,5.mp4\")\n",
    "\n",
    "for i in range(180-len(list_frames)):\n",
    "    list_frames += [np.zeros(60*60).reshape(60,60).astype('uint8')]\n",
    "\n",
    "# current_frame = 0\n",
    "# for frame in list_frames:\n",
    "#     name = \"frame\" + str(current_frame)\n",
    "#     cv2.imwrite(\"/user/jemonet/home/Documents/Thèse/Code/Stimuli/data/\"+name+\".jpg\",frame)\n",
    "#     current_frame += 1\n",
    "\n",
    "hf.images_to_video(\"white_bar_fast1,5_extendedNEW.mp4\",list_frames)"
   ]
  },
  {
   "cell_type": "code",
   "execution_count": 20,
   "metadata": {},
   "outputs": [
    {
     "data": {
      "text/plain": [
       "[]"
      ]
     },
     "execution_count": 20,
     "metadata": {},
     "output_type": "execute_result"
    }
   ],
   "source": [
    "hf.video_to_images(\"/user/jemonet/home/Documents/Thèse/Stimuli/white_bar_fast1,5_extended.mp4\",save=True)"
   ]
  },
  {
   "cell_type": "code",
   "execution_count": 21,
   "metadata": {},
   "outputs": [],
   "source": [
    "importlib.reload(hf)\n",
    "\n",
    "hf.create_apparent_motion_stimulus(60,60,180,2,3,20,save=True)"
   ]
  },
  {
   "cell_type": "code",
   "execution_count": null,
   "metadata": {},
   "outputs": [],
   "source": []
  },
  {
   "cell_type": "code",
   "execution_count": 13,
   "metadata": {},
   "outputs": [],
   "source": [
    "importlib.reload(hf)\n",
    "\n",
    "hf.create_fixedpoint_stimulus(60,60,180,50,save=True)\n",
    "hf.images_to_video(\"white_point.mp4\",\"/user/jemonet/home/Documents/Thèse/Code/Stimuli/fixedpoint_stimulus\")"
   ]
  },
  {
   "cell_type": "code",
   "execution_count": 43,
   "metadata": {},
   "outputs": [],
   "source": [
    "# Création de stimuli à partir de la database de frames de stimuli\n",
    "importlib.reload(hf)\n",
    "from os.path import isfile, join\n",
    "\n",
    "path = \"/user/jemonet/home/Documents/These/stimuli/frames_stimuli/white_disk_flash\"\n",
    "list_frame = []\n",
    "files = [f for f in os.listdir(path) if isfile(join(path,f))]\n",
    "files.sort(key = lambda x: int(x[5:-4]))\n",
    "for current_frame in range(len(files)):\n",
    "    filename = path + \"/\" + files[current_frame]\n",
    "    img = cv2.imread(filename, cv2.IMREAD_GRAYSCALE)\n",
    "    list_frame.append(img)\n",
    "\n",
    "cutted_list = list_frame[64:76]\n",
    "a = cutted_list\n",
    "for i in range(76,180):\n",
    "    cutted_list.append(cutted_list[0])\n",
    "hf.images_to_video(\"white_disk_begin2f.mp4\",cutted_list, c=False)"
   ]
  },
  {
   "cell_type": "code",
   "execution_count": 188,
   "metadata": {
    "tags": []
   },
   "outputs": [],
   "source": [
    "import cv2\n",
    "\n",
    "# Creation stimulus immobile\n",
    "transient = 0\n",
    "duration = 10\n",
    "largeur = 2\n",
    "longueur = 2\n",
    "x1 = 30 # Coordonnée x du pixel en haut à gauche du stimulus\n",
    "x2 = x1 + longueur\n",
    "y1 = 30 # Coordonnée y du pixel en haut à gauche du stimulus\n",
    "y2 = y1 + largeur\n",
    "\n",
    "img = np.zeros(shape=(60,60), dtype=np.uint8)\n",
    "for i in range(x1-1,x2-1):\n",
    "    for j in range(y1-1,y2-1):\n",
    "        img[i,j] = 255\n",
    "\n",
    "list_img = []\n",
    "for k in range(0,180):\n",
    "    if k > transient - 1 and k < duration + transient:\n",
    "        list_img.append(img)\n",
    "    else:\n",
    "        list_img.append(np.zeros(shape=(60,60),dtype=np.uint8))\n",
    "\n",
    "hf.images_to_video(\"white_disk_2pixels_begin0f.mp4\",list_img, c=False)"
   ]
  },
  {
   "cell_type": "code",
   "execution_count": 189,
   "metadata": {},
   "outputs": [
    {
     "data": {
      "text/plain": [
       "[]"
      ]
     },
     "execution_count": 189,
     "metadata": {},
     "output_type": "execute_result"
    }
   ],
   "source": [
    "hf.video_to_images(\"/user/jemonet/home/Documents/These/stimuli/stim_database/white_disk/white_disk_2pixels_begin0f.mp4\",save=True)"
   ]
  },
  {
   "cell_type": "code",
   "execution_count": 25,
   "metadata": {},
   "outputs": [],
   "source": [
    "import cv2\n",
    "\n",
    "# Creation stimulus barre en mouvement\n",
    "transient = 10\n",
    "speed = 1\n",
    "l_img = 60\n",
    "L_img = 60\n",
    "largeur = 20\n",
    "longueur = 60\n",
    "x0 = int(np.ceil((l_img - longueur) / 2))\n",
    "y0 = -largeur+1\n",
    "\n",
    "\n",
    "list_img = []\n",
    "for k in range(0,180):\n",
    "    img = np.zeros(shape=(60,60), dtype=np.uint8)\n",
    "\n",
    "    if k > transient - 1:\n",
    "        if y0 < 0:\n",
    "            for i in range(x0,x0+longueur):\n",
    "                for j in range(0,int(round(y0))+largeur):\n",
    "                    img[i,j] = 255\n",
    "            \n",
    "        elif int(round(y0)) + largeur >= l_img and int(round(y0)) < l_img:\n",
    "            for i in range(x0,x0+longueur):\n",
    "                for j in range(int(round(y0)),l_img):\n",
    "                    img[i,j] = 255\n",
    "                    \n",
    "        elif y0 >= 0 and int(round(y0)) <60-largeur:\n",
    "            for i in range(x0,x0+longueur):\n",
    "                for j in range(int(round(y0)),int(round(y0))+largeur):\n",
    "                    img[i,j] = 255\n",
    "                    \n",
    "        y0 += speed\n",
    "    list_img.append(img)\n",
    "        \n",
    "\n",
    "hf.images_to_video(\"white_bar_20x60_begin10f.mp4\",list_img, c=False)"
   ]
  },
  {
   "cell_type": "code",
   "execution_count": 91,
   "metadata": {},
   "outputs": [],
   "source": [
    "# Création stimulus point unique centré et blanc\n",
    "path = \"/user/jemonet/home/Documents/These/stimuli/stim_database/\"\n",
    "frames = []\n",
    "for t in range(180):\n",
    "    frame = np.full((60,60),np.uint8(0))\n",
    "    if t<30:\n",
    "        frame[29][29] = 255\n",
    "    frames += [frame]\n",
    "    \n",
    "hf.images_to_video(\"white_point_cropbegin_dur30ftest.mp4\",frames, c=False, path_video=path)"
   ]
  },
  {
   "cell_type": "code",
   "execution_count": null,
   "metadata": {},
   "outputs": [],
   "source": []
  }
 ],
 "metadata": {
  "kernelspec": {
   "display_name": "Python 3 (ipykernel)",
   "language": "python",
   "name": "python3"
  },
  "language_info": {
   "codemirror_mode": {
    "name": "ipython",
    "version": 3
   },
   "file_extension": ".py",
   "mimetype": "text/x-python",
   "name": "python",
   "nbconvert_exporter": "python",
   "pygments_lexer": "ipython3",
   "version": "3.9.12"
  }
 },
 "nbformat": 4,
 "nbformat_minor": 4
}
