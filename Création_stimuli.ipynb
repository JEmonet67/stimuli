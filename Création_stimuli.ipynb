{
 "cells": [
  {
   "cell_type": "markdown",
   "metadata": {},
   "source": [
    "# Création de stimuli"
   ]
  },
  {
   "cell_type": "code",
   "execution_count": 1,
   "metadata": {},
   "outputs": [],
   "source": [
    "import cv2\n",
    "import os\n",
    "import matplotlib.pyplot as plt\n",
    "import numpy as np\n",
    "import importlib\n",
    "import stim_help_functions as hf"
   ]
  },
  {
   "cell_type": "code",
   "execution_count": 3,
   "metadata": {},
   "outputs": [],
   "source": [
    "#création stimuli de type flash\n",
    "name_video = \"/user/jemonet/home/Documents/Thèse/Stimuli/black_background.mp4\"\n",
    "list_frame = hf.video_to_images(name_video,False)\n",
    "n=0\n",
    "for l in range(1,11):\n",
    "    for frame in list_frame:\n",
    "        if n>=60 and n<60+l:\n",
    "            for i in range(frame.shape[0]):\n",
    "                for j in range(frame.shape[1]):\n",
    "                    frame[i][j] = 255\n",
    "        n+=1\n",
    "\n",
    "    hf.images_to_video(\"white_flash_\"+str(l)+\"frame.mp4\",list_frame)"
   ]
  },
  {
   "cell_type": "code",
   "execution_count": null,
   "metadata": {},
   "outputs": [],
   "source": []
  },
  {
   "cell_type": "code",
   "execution_count": 24,
   "metadata": {},
   "outputs": [],
   "source": [
    "importlib.reload(hf)\n",
    "\n",
    "name_video = \"/user/jemonet/home/Documents/These/stimuli/stim_database/white_bar_fast1,5PixelPerFrame_extended.mp4\"\n",
    "list_frame = hf.video_to_images(name_video,False)\n",
    "\n",
    "list_frame = list_frame[12:]\n",
    "len(list_frame)\n",
    "hf.images_to_video(\"cropBegin_white_bar_fast1,5PixelPerFrame_extended.mp4\",list_frame,c=False,path_video=\"/user/jemonet/home/Documents/These/stimuli/stim_database\")"
   ]
  },
  {
   "cell_type": "code",
   "execution_count": null,
   "metadata": {},
   "outputs": [],
   "source": []
  },
  {
   "cell_type": "code",
   "execution_count": 56,
   "metadata": {},
   "outputs": [],
   "source": [
    "#création stimuli background uniforme\n",
    "name_video = \"/user/jemonet/home/Documents/Thèse/Stimuli/white_background.mp4\"\n",
    "list_frame = hf.video_to_images(name_video,False)\n",
    "\n",
    "for frame in list_frame:\n",
    "        for i in range(frame.shape[0]):\n",
    "            for j in range(frame.shape[1]):\n",
    "                frame[i][j] = 255\n",
    "            \n",
    "# h, w = list_frame[0].shape\n",
    "hf.images_to_video(\"white_background.mp4\",list_frame)"
   ]
  },
  {
   "cell_type": "code",
   "execution_count": null,
   "metadata": {},
   "outputs": [],
   "source": [
    "#Create inverted stimulus\n",
    "importlib.reload(hf)\n",
    "\n",
    "inv_list_frame = hf.invert_black_white(list_frame)\n",
    "plt.imshow(inv_list_frame[0], cmap=\"gray\", vmin=0, vmax=255)\n",
    "hf.images_to_video(\"white_bar.mp4\",\"/user/jemonet/home/Documents/Thèse/Stimuli/WhiteBar_Whitefont\")"
   ]
  },
  {
   "cell_type": "code",
   "execution_count": 62,
   "metadata": {},
   "outputs": [],
   "source": [
    "#Create white video\n",
    "importlib.reload(hf)\n",
    "os.chdir('/home/jemonet/Documents/Thèse/Code/Stimuli/flash')\n",
    "\n",
    "#hf.create_flash_stimulus(60,60,180,120, value_background=255, save=True)\n",
    "hf.images_to_video(\"black_flash.mp4\",'/home/jemonet/Documents/Thèse/Code/Stimuli/flash')"
   ]
  },
  {
   "cell_type": "code",
   "execution_count": 48,
   "metadata": {},
   "outputs": [],
   "source": [
    "#Create inverted white flash\n",
    "frames = hf.video_to_images(\"/user/jemonet/home/Documents/Thèse/Stimuli/black_flash/black_flash_1frame.mp4\")\n",
    "inv_frames = hf.invert_black_white(frames)\n",
    "# hf.images_to_video(\"white_flash.mp4\",inv_frames)"
   ]
  },
  {
   "cell_type": "code",
   "execution_count": 46,
   "metadata": {},
   "outputs": [
    {
     "data": {
      "text/plain": [
       "[]"
      ]
     },
     "execution_count": 46,
     "metadata": {},
     "output_type": "execute_result"
    }
   ],
   "source": [
    "#Create start white bar flash from black_bar_flash\n",
    "frames = hf.video_to_images(\"/user/jemonet/home/Documents/Thèse/Stimuli/black_bar_flash.mp4\")\n",
    "inv_frames = hf.invert_black_white(frames)\n",
    "cropped_frames = inv_frames[45:]\n",
    "hf.images_to_video(\"white_bar_flash_startf5.mp4\",cropped_frames)\n",
    "hf.video_to_images(\"/user/jemonet/home/Documents/Thèse/Stimuli/white bar flash/white_bar_flash_startf5.mp4\",True)"
   ]
  },
  {
   "cell_type": "code",
   "execution_count": 17,
   "metadata": {},
   "outputs": [],
   "source": [
    "list_frames = hf.video_to_images(\"/user/jemonet/home/Documents/Thèse/Stimuli/white_bar_fast1,5.mp4\")\n",
    "\n",
    "for i in range(180-len(list_frames)):\n",
    "    list_frames += [np.zeros(60*60).reshape(60,60).astype('uint8')]\n",
    "\n",
    "# current_frame = 0\n",
    "# for frame in list_frames:\n",
    "#     name = \"frame\" + str(current_frame)\n",
    "#     cv2.imwrite(\"/user/jemonet/home/Documents/Thèse/Code/Stimuli/data/\"+name+\".jpg\",frame)\n",
    "#     current_frame += 1\n",
    "\n",
    "hf.images_to_video(\"white_bar_fast1,5_extendedNEW.mp4\",list_frames)"
   ]
  },
  {
   "cell_type": "code",
   "execution_count": 20,
   "metadata": {},
   "outputs": [
    {
     "data": {
      "text/plain": [
       "[]"
      ]
     },
     "execution_count": 20,
     "metadata": {},
     "output_type": "execute_result"
    }
   ],
   "source": [
    "hf.video_to_images(\"/user/jemonet/home/Documents/Thèse/Stimuli/white_bar_fast1,5_extended.mp4\",save=True)"
   ]
  },
  {
   "cell_type": "code",
   "execution_count": 21,
   "metadata": {},
   "outputs": [],
   "source": [
    "importlib.reload(hf)\n",
    "\n",
    "hf.create_apparent_motion_stimulus(60,60,180,2,3,20,save=True)"
   ]
  },
  {
   "cell_type": "code",
   "execution_count": null,
   "metadata": {},
   "outputs": [],
   "source": []
  },
  {
   "cell_type": "code",
   "execution_count": 13,
   "metadata": {},
   "outputs": [],
   "source": [
    "importlib.reload(hf)\n",
    "\n",
    "hf.create_fixedpoint_stimulus(60,60,180,50,save=True)\n",
    "hf.images_to_video(\"white_point.mp4\",\"/user/jemonet/home/Documents/Thèse/Code/Stimuli/fixedpoint_stimulus\")"
   ]
  },
  {
   "cell_type": "code",
   "execution_count": 5,
   "metadata": {},
   "outputs": [],
   "source": [
    "importlib.reload(hf)\n",
    "from os.path import isfile, join\n",
    "\n",
    "path = \"/user/jemonet/home/Documents/Thèse/Code/Stimuli/white_bar_fast1,5_extended\"\n",
    "list_frame = []\n",
    "files = [f for f in os.listdir(path) if isfile(join(path,f))]\n",
    "files.sort(key = lambda x: int(x[5:-4]))\n",
    "for current_frame in range(len(files)):\n",
    "    filename = path + \"/\" + files[current_frame]\n",
    "    img = cv2.imread(filename, cv2.IMREAD_GRAYSCALE)\n",
    "    list_frame.append(img)\n",
    "\n",
    "cutted_list = list_frame[9:]\n",
    "hf.images_to_video(\"white_bar_fast1,5_begin4f.mp4\",cutted_list)"
   ]
  },
  {
   "cell_type": "code",
   "execution_count": null,
   "metadata": {},
   "outputs": [],
   "source": []
  },
  {
   "cell_type": "code",
   "execution_count": null,
   "metadata": {},
   "outputs": [],
   "source": []
  }
 ],
 "metadata": {
  "kernelspec": {
   "display_name": "Python 3 (ipykernel)",
   "language": "python",
   "name": "python3"
  },
  "language_info": {
   "codemirror_mode": {
    "name": "ipython",
    "version": 3
   },
   "file_extension": ".py",
   "mimetype": "text/x-python",
   "name": "python",
   "nbconvert_exporter": "python",
   "pygments_lexer": "ipython3",
   "version": "3.9.12"
  }
 },
 "nbformat": 4,
 "nbformat_minor": 4
}
